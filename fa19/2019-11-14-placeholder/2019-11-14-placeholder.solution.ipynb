{
 "cells": [
  {
   "cell_type": "markdown",
   "metadata": {
    "nb-title": true,
    "title": "Placeholder"
   },
   "source": [
    "<img src=\"https://ucfai.org/data-science/fa19/2019-11-14-placeholder/placeholder/banner.png\">\n",
    "\n",
    "<div class=\"col-12\">\n",
    "    <span class=\"btn btn-success btn-block\">\n",
    "        Meeting in-person? Have you signed in?\n",
    "    </span>\n",
    "</div>\n",
    "\n",
    "<div class=\"col-12\">\n",
    "    <h1> Placeholder </h1>\n",
    "    <hr>\n",
    "</div>\n",
    "\n",
    "<div style=\"line-height: 2em;\">\n",
    "    <p>by: \n",
    "        <strong> Alec Kerrigan</strong>\n",
    "        (<a href=\"https://github.com/ahkerrigan\">@ahkerrigan</a>)\n",
    "     on 2019-11-14</p>\n",
    "</div>"
   ]
  }
 ],
 "metadata": {
  "autobot": {
   "authors": [
    {
     "author": "Alec Kerrigan",
     "github": "ahkerrigan",
     "web": null
    }
   ],
   "categories": [
    "fa19"
   ],
   "date": "2019-11-14",
   "description": "Placeholder",
   "tags": [
    "machine-learning",
    "data science",
    "finance",
    "statistics"
   ],
   "title": "Placeholder"
  }
 },
 "nbformat": 4,
 "nbformat_minor": 2
}
