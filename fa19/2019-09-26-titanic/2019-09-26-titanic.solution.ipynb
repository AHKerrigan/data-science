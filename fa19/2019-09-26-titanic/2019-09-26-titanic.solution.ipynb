{
 "cells": [
  {
   "cell_type": "markdown",
   "metadata": {
    "nb-title": true,
    "title": "Using Machine Learning and Data Science to Understand the Titanic Disaster"
   },
   "source": [
    "<img src=\"https://ucfai.org//data-science/fa19/titanic/banner.jpg\">\n",
    "\n",
    "<div class=\"col-12\">\n",
    "    <span class=\"btn btn-success btn-block\">\n",
    "        Meeting in-person? Have you signed in?\n",
    "    </span>\n",
    "</div>\n",
    "\n",
    "<div class=\"col-12\">\n",
    "    <h1> Using Machine Learning and Data Science to Understand the Titanic Disaster </h1>\n",
    "    <hr>\n",
    "</div>\n",
    "\n",
    "<div style=\"line-height: 2em;\">\n",
    "    <p>by: \n",
    "        <strong> Alec Kerrigan</strong>\n",
    "        (<a href=\"https://github.com/ahkerrigan\">@ahkerrigan</a>)\n",
    "     on 2019-09-26</p>\n",
    "</div>"
   ]
  }
 ],
 "metadata": {
  "autobot": {
   "authors": [
    {
     "author": "Alec Kerrigan",
     "github": "ahkerrigan",
     "web": null
    }
   ],
   "categories": [
    "fa19"
   ],
   "date": "2019-09-26",
   "description": "The titanic dataset is often considered the \"hello world\" of data science. In this workshop, we will use this relatively simple dataset to help get you comfortable with the kind of workflow that will be  used in the data science group. By the end of this workshop, all groups will be comfortable with the  end-to-end process of data analysis, model selection, model fitting, and finally submission to kaggle. As always, you will have the opporunity to compete with the other groups!",
   "tags": [
    "machine learning",
    "data science",
    "titanic",
    "statistics"
   ],
   "title": "Using Machine Learning and Data Science to Understand the Titanic Disaster"
  }
 },
 "nbformat": 4,
 "nbformat_minor": 2
}
