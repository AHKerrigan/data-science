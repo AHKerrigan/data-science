{
 "cells": [
  {
   "cell_type": "markdown",
   "metadata": {
    "nb-title": true,
    "title": "Answering the Important Question: Where's My Money?"
   },
   "source": [
    "<img src=\"https://ucfai.org/data-science/fa19/2019-10-03-loan-defaults/loan-defaults/banner.png\">\n",
    "\n",
    "<div class=\"col-12\">\n",
    "    <span class=\"btn btn-success btn-block\">\n",
    "        Meeting in-person? Have you signed in?\n",
    "    </span>\n",
    "</div>\n",
    "\n",
    "<div class=\"col-12\">\n",
    "    <h1> Answering the Important Question: Where's My Money? </h1>\n",
    "    <hr>\n",
    "</div>\n",
    "\n",
    "<div style=\"line-height: 2em;\">\n",
    "    <p>by: \n",
    "        <strong> Steve</strong>\n",
    "        (<a href=\"https://github.com/causallycausal\">@causallycausal</a>)\n",
    "     on 2019-10-03</p>\n",
    "</div>"
   ]
  },
  {
   "cell_type": "code",
   "execution_count": null,
   "metadata": {},
   "outputs": [],
   "source": [
    "import matplotlib.pyplot as plt\n",
    "import numpy as np\n",
    "import pandas as pd \n",
    "import seaborn as sns"
   ]
  },
  {
   "cell_type": "markdown",
   "metadata": {},
   "source": [
    "# Seaborn Basics\n",
    "- *If you are already familiar with Seaborn, feel free to skip this.*"
   ]
  },
  {
   "cell_type": "markdown",
   "metadata": {},
   "source": [
    "Illustrating Seaborn through the visualization of the tips datasets. For more information, please visit the Seaborn documentation [here](https://seaborn.pydata.org/)."
   ]
  },
  {
   "cell_type": "code",
   "execution_count": null,
   "metadata": {},
   "outputs": [],
   "source": [
    "tips = sns.load_dataset(\"tips\") # get the tips dataset from the internet\n",
    "tips # A small dataset compared to our Lending Club dataset :)"
   ]
  },
  {
   "cell_type": "markdown",
   "metadata": {},
   "source": [
    "## Scatter Plots \n",
    "Remember that scatter plots plot a cloud of points representing the joint distribution of two variables. In Seaborn we can use either `sns.scatterplot()` or `sns.relplot()` and note that the default `kind` of `sns.relplot()` is scatter (think of `kind` as the type of plot you want to create). Also, `sns.relplot()` is considered a `Figure-level` interface, more on that later. "
   ]
  },
  {
   "cell_type": "code",
   "execution_count": null,
   "metadata": {},
   "outputs": [],
   "source": [
    "# Here we will plot tip against total_bill \n",
    "sns.relplot(x=\"total_bill\", y=\"tip\", data=tips); # Note here x=\"\" and y=\"\" corresponds to the column names in the tips dataset "
   ]
  },
  {
   "cell_type": "markdown",
   "metadata": {},
   "source": [
    "Lets say we want to rename our x and y-axis to Total Bill and Tip, respectively and add a title to our plot. There are two possible ways to do this: \n",
    "1. Modifying the axes labels by calling `plt.subplots()` and use `sns.scatterplot()` to plot the data. \n",
    "2. Modifying the axes labels returned when calling a figure level function in Seaborn*. \n",
    "\n",
    "Both ways are illustrated below, feel free to choose whatever style you prefer. Additionally, I've found the first way is helpful when you want to plot multiple plots in a grid. (Remember that Seaborn is built on Matplotlib.) \n",
    "\n",
    "\\* With every `Figure-Level` interface, a `FacetGrid` object is returned which you can access to make edits to your plot. Learn more about `FacetGrid` [here](http://seaborn.pydata.org/generated/seaborn.FacetGrid.html), building structured multi-plot grids in Seaborn [here](https://seaborn.pydata.org/tutorial/axis_grids.html) and "
   ]
  },
  {
   "cell_type": "code",
   "execution_count": null,
   "metadata": {},
   "outputs": [],
   "source": [
    "# Method 1. \n",
    "fig, ax = plt.subplots()\n",
    "sns.scatterplot(x=\"total_bill\", y=\"tip\", data=tips)\n",
    "ax.set_xlabel(\"Total Bill\")\n",
    "ax.set_ylabel(\"Tip\")\n",
    "ax.set_title(\"Tip vs Total Bill\");"
   ]
  },
  {
   "cell_type": "code",
   "execution_count": null,
   "metadata": {},
   "outputs": [],
   "source": [
    "#Method 2. \n",
    "g = sns.relplot(x=\"total_bill\", y=\"tip\", data=tips)\n",
    "g.set_axis_labels(\"Total Bill\", \"Tip\")\n",
    "g.ax.set_title(\"Tip vs Total Bill\");"
   ]
  },
  {
   "cell_type": "markdown",
   "metadata": {},
   "source": [
    "Lets add a third dimension to the plot above by coloring in the points according to the categorical variable `sex`. We can achieve this by adding the attribute `hue` to our plot."
   ]
  },
  {
   "cell_type": "code",
   "execution_count": null,
   "metadata": {},
   "outputs": [],
   "source": [
    "sns.relplot(x=\"total_bill\", y=\"tip\", hue=\"smoker\", data=tips);"
   ]
  },
  {
   "cell_type": "markdown",
   "metadata": {},
   "source": [
    "## Plotting Categorical Variables \n",
    "The figure level interface for plotting categorical variables is `sns.catplot()`. We can think of different categorical plot kinds as belonging to three different families: \n",
    "1. Categorical scatterplots:\n",
    "    *     `sns.stripplot()` (with `kind=\"strip\"`; the default)\n",
    "    *     `sns.swarmplot()` (with `kind=\"swarm\"`)\n",
    "\n",
    "2. Categorical distribution plots:\n",
    "    \n",
    "    *     `sns.boxplot()` (with `kind=\"box\"`)\n",
    "    *     `sns.violinplot()` (with `kind=\"violin\"`)\n",
    "    *     `sns.boxenplot()` (with `kind=\"boxen\"`)\n",
    "\n",
    "3. Categorical estimate plots:\n",
    "    *      `sns.pointplot()` (with `kind=\"point\"`)\n",
    "    *      `sns.barplot()` (with `kind=\"bar\"`)\n",
    "    *      `sns.countplot()` (with `kind=\"count\"`)\n",
    " \n",
    " Below are some examples of each categorical plot."
   ]
  },
  {
   "cell_type": "code",
   "execution_count": null,
   "metadata": {},
   "outputs": [],
   "source": [
    "# Categorical scatterplots\n",
    "# Here we show how to plot total_bill within each day \n",
    "# To prevent from overlapping try kind=\"swarm\"\n",
    "sns.catplot(x=\"day\", y=\"total_bill\", data=tips);"
   ]
  },
  {
   "cell_type": "code",
   "execution_count": null,
   "metadata": {},
   "outputs": [],
   "source": [
    "# Categorical distribution plots (distributions of observations within categories)\n",
    "sns.catplot(x=\"day\", y=\"total_bill\", hue=\"smoker\", kind=\"box\", data=tips);"
   ]
  },
  {
   "cell_type": "code",
   "execution_count": null,
   "metadata": {},
   "outputs": [],
   "source": [
    "# Categorical estimate plots\n",
    "# Here the height of the bars represent the mean (by default) and the error bars represent a confidence interval around the estimate\n",
    "sns.catplot(x=\"day\", y=\"tip\", hue=\"sex\", kind=\"bar\", data=tips);"
   ]
  },
  {
   "cell_type": "markdown",
   "metadata": {},
   "source": [
    "# Visualizing the Distribution of a Dataset\n",
    "\n",
    "We end this mini-tutorial with an example of how to visualize a univariate distribution."
   ]
  },
  {
   "cell_type": "code",
   "execution_count": null,
   "metadata": {},
   "outputs": [],
   "source": [
    "# Here we examine the univariate distribution of tip using histograms\n",
    "sns.distplot(tips[\"tip\"], kde=False);"
   ]
  },
  {
   "cell_type": "code",
   "execution_count": null,
   "metadata": {},
   "outputs": [],
   "source": [
    "# Here we add a kernel density estimate (KDE) on top of the histogram.\n",
    "sns.distplot(tips[\"tip\"]);"
   ]
  },
  {
   "cell_type": "markdown",
   "metadata": {},
   "source": [
    "# Exploratory Data Analysis with the Lending Club Dataset "
   ]
  },
  {
   "cell_type": "markdown",
   "metadata": {},
   "source": [
    " ## Missing Value Analysis"
   ]
  },
  {
   "cell_type": "code",
   "execution_count": null,
   "metadata": {
    "_cell_guid": "79c7e3d0-c299-4dcb-8224-4455121ee9b0",
    "_uuid": "d629ff2d2480ee46fbb7e2d37f6b5fab8052498a"
   },
   "outputs": [],
   "source": [
    "# Load in the data \n",
    "train = pd.read_csv(\"../input/ucfai-dsg-fa19-default/train.csv\") #we could set low_memory=True but it's useful to see that column numbers for exploration\n",
    "test = pd.read_csv(\"../input/ucfai-dsg-fa19-default/test.csv\")"
   ]
  },
  {
   "cell_type": "code",
   "execution_count": null,
   "metadata": {
    "nbgrader": {
     "solution": true
    }
   },
   "outputs": [],
   "source": [
    "# Take a look at the data with describe \n",
    "# YOUR CODE HERE\n",
    "raise NotImplementedError()"
   ]
  },
  {
   "cell_type": "code",
   "execution_count": null,
   "metadata": {
    "nbgrader": {
     "solution": true
    }
   },
   "outputs": [],
   "source": [
    "# Take a look at the categorical data\n",
    "# YOUR CODE HERE\n",
    "raise NotImplementedError()"
   ]
  },
  {
   "cell_type": "code",
   "execution_count": null,
   "metadata": {
    "nbgrader": {
     "solution": true
    }
   },
   "outputs": [],
   "source": [
    "# Count number of columns with at least one missing value\n",
    "# YOUR CODE HERE\n",
    "raise NotImplementedError()"
   ]
  },
  {
   "cell_type": "code",
   "execution_count": null,
   "metadata": {
    "nbgrader": {
     "solution": true
    }
   },
   "outputs": [],
   "source": [
    "# Percent columns that contain at least one missing value\n",
    "# YOUR CODE HERE\n",
    "raise NotImplementedError()"
   ]
  },
  {
   "cell_type": "code",
   "execution_count": null,
   "metadata": {
    "nbgrader": {
     "solution": true
    }
   },
   "outputs": [],
   "source": [
    "# Count number of row with at least one missing value\n",
    "# YOUR CODE HERE\n",
    "raise NotImplementedError()"
   ]
  },
  {
   "cell_type": "code",
   "execution_count": null,
   "metadata": {
    "nbgrader": {
     "solution": true
    }
   },
   "outputs": [],
   "source": [
    "# Calculate the percentage of rows that contain at least one missing value\n",
    "# YOUR CODE HERE\n",
    "raise NotImplementedError()"
   ]
  },
  {
   "cell_type": "code",
   "execution_count": null,
   "metadata": {
    "nbgrader": {
     "solution": true
    }
   },
   "outputs": [],
   "source": [
    "# Count number of columns with at least one missing value\n",
    "# YOUR CODE HERE\n",
    "raise NotImplementedError()"
   ]
  },
  {
   "cell_type": "code",
   "execution_count": null,
   "metadata": {
    "nbgrader": {
     "solution": true
    }
   },
   "outputs": [],
   "source": [
    "# Calculate the percentage of nulls in each column \n",
    "# YOUR CODE HERE\n",
    "raise NotImplementedError()"
   ]
  },
  {
   "cell_type": "code",
   "execution_count": null,
   "metadata": {
    "nbgrader": {
     "solution": true
    }
   },
   "outputs": [],
   "source": [
    "# Find the number of columns that have over 90% nulls in them \n",
    "# YOUR CODE HERE\n",
    "raise NotImplementedError()"
   ]
  },
  {
   "cell_type": "markdown",
   "metadata": {},
   "source": [
    "## Visualizing the Distributions of Loan Amount, Funded Amount, and Funded Amount by Investors"
   ]
  },
  {
   "cell_type": "code",
   "execution_count": null,
   "metadata": {
    "nbgrader": {
     "solution": true
    }
   },
   "outputs": [],
   "source": [
    "#visualize loan_amnt, funded_amnt, and funded_amnt_inv for the train dataset \n",
    "# YOUR CODE HERE\n",
    "raise NotImplementedError()"
   ]
  },
  {
   "cell_type": "code",
   "execution_count": null,
   "metadata": {
    "nbgrader": {
     "solution": true
    }
   },
   "outputs": [],
   "source": [
    "#visualize loan_amnt, funded_amnt, and funded_amnt_inv for the test dataset \n",
    "# YOUR CODE HERE\n",
    "raise NotImplementedError()"
   ]
  },
  {
   "cell_type": "code",
   "execution_count": null,
   "metadata": {
    "nbgrader": {
     "solution": true
    }
   },
   "outputs": [],
   "source": [
    "# Plot the number of loans issued per month\n",
    "# YOUR CODE HERE\n",
    "raise NotImplementedError()"
   ]
  },
  {
   "cell_type": "code",
   "execution_count": null,
   "metadata": {
    "nbgrader": {
     "solution": true
    }
   },
   "outputs": [],
   "source": [
    "# Convert \"issue_d\" to pandas datetime format for the train set and then plot the number of loans issued per year \n",
    "# YOUR CODE HERE\n",
    "raise NotImplementedError()"
   ]
  },
  {
   "cell_type": "code",
   "execution_count": null,
   "metadata": {
    "nbgrader": {
     "solution": true
    }
   },
   "outputs": [],
   "source": [
    "# Convert \"issue_d\" to pandas datetime format for the test set and then plot the number of loans issued per year \n",
    "# YOUR CODE HERE\n",
    "raise NotImplementedError()"
   ]
  },
  {
   "cell_type": "code",
   "execution_count": null,
   "metadata": {
    "nbgrader": {
     "solution": true
    }
   },
   "outputs": [],
   "source": [
    "# Plot the number of loans within each grade category for the train set\n",
    "# YOUR CODE HERE\n",
    "raise NotImplementedError()"
   ]
  },
  {
   "cell_type": "code",
   "execution_count": null,
   "metadata": {
    "nbgrader": {
     "solution": true
    }
   },
   "outputs": [],
   "source": [
    "# Plot the number of loans within each grade category for the test set\n",
    "# YOUR CODE HERE\n",
    "raise NotImplementedError()"
   ]
  },
  {
   "cell_type": "code",
   "execution_count": null,
   "metadata": {
    "nbgrader": {
     "solution": true
    }
   },
   "outputs": [],
   "source": [
    "# Plot the number of loans within each grade category with hue train. \n",
    "# YOUR CODE HERE\n",
    "raise NotImplementedError()"
   ]
  },
  {
   "cell_type": "code",
   "execution_count": null,
   "metadata": {
    "nbgrader": {
     "solution": true
    }
   },
   "outputs": [],
   "source": [
    "# Plot the number of loans within each subgrade with hue GOOD_STANDING\n",
    "# YOUR CODE HERE\n",
    "raise NotImplementedError()"
   ]
  },
  {
   "cell_type": "code",
   "execution_count": null,
   "metadata": {},
   "outputs": [],
   "source": [
    "# import pandas_profiling\n",
    "\n",
    "# train.profile_report()"
   ]
  }
 ],
 "metadata": {
  "autobot": {
   "authors": [
    {
     "author": "Steve",
     "github": "causallycausal",
     "web": null
    }
   ],
   "categories": [
    "fa19"
   ],
   "date": "2019-10-03",
   "description": "Perhaps the most common and popular application of data science is in the financial world. For years, loan providers have had to work on intuition (and perhaps intellegence of underemployed math majors) to determine who should and should not be recieving a loan. But now days, we can use fancy statistics and machine learning to determine who will default on a loan.",
   "tags": [
    "machine-learning",
    "data science",
    "finance",
    "statistics"
   ],
   "title": "Answering the Important Question: Where's My Money?"
  },
  "kernelspec": {
   "display_name": "Python 3",
   "language": "python",
   "name": "python3"
  },
  "language_info": {
   "codemirror_mode": {
    "name": "ipython",
    "version": 3
   },
   "file_extension": ".py",
   "mimetype": "text/x-python",
   "name": "python",
   "nbconvert_exporter": "python",
   "pygments_lexer": "ipython3",
   "version": "3.7.1"
  }
 },
 "nbformat": 4,
 "nbformat_minor": 2
}
