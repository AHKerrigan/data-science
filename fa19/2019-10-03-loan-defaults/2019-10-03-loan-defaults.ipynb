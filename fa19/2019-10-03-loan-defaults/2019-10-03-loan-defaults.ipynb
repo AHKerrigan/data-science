{
 "cells": [
  {
   "cell_type": "markdown",
   "metadata": {
    "nb-title": true,
    "title": "Using Data Science and Machine Learning to Answer the Important Question: Where's My Money?"
   },
   "source": [
    "<img src=\"https://ucfai.org/data-science/fa19/loan-defaults/banner.png\">\n",
    "\n",
    "<div class=\"col-12\">\n",
    "    <span class=\"btn btn-success btn-block\">\n",
    "        Meeting in-person? Have you signed in?\n",
    "    </span>\n",
    "</div>\n",
    "\n",
    "<div class=\"col-12\">\n",
    "    <h1> Using Data Science and Machine Learning to Answer the Important Question: Where's My Money? </h1>\n",
    "    <hr>\n",
    "</div>\n",
    "\n",
    "<div style=\"line-height: 2em;\">\n",
    "    <p>by: \n",
    "        <strong> Steve</strong>\n",
    "        (<a href=\"https://github.com/causallycausal\">@causallycausal</a>)\n",
    "     on 2019-10-03</p>\n",
    "</div>"
   ]
  }
 ],
 "metadata": {
  "autobot": {
   "authors": [
    {
     "author": "Steve",
     "github": "causallycausal",
     "web": null
    }
   ],
   "categories": [
    "fa19"
   ],
   "date": "2019-10-03",
   "description": "Perhaps the most common and popular application of data science is in the financial world. For years, loan providers have had to work on intuition (and perhaps intellegence of underemployed math majors) to determine who should and should not be recieving a loan. But now days, we can use fancy statistics and machine learning to determine who will default on a loan.",
   "tags": [
    "machine learning",
    "data science",
    "finance",
    "statistics"
   ],
   "title": "Using Data Science and Machine Learning to Answer the Important Question: Where's My Money?"
  }
 },
 "nbformat": 4,
 "nbformat_minor": 2
}
