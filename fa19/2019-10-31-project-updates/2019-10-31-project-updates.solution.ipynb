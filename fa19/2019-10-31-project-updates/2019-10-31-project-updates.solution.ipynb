{
 "cells": [
  {
   "cell_type": "markdown",
   "metadata": {
    "nb-title": true,
    "title": "Project Updates"
   },
   "source": [
    "<img src=\"https://ucfai.org/data-science/fa19/2019-10-31-project-updates/project-updates/banner.png\">\n",
    "\n",
    "<div class=\"col-12\">\n",
    "    <span class=\"btn btn-success btn-block\">\n",
    "        Meeting in-person? Have you signed in?\n",
    "    </span>\n",
    "</div>\n",
    "\n",
    "<div class=\"col-12\">\n",
    "    <h1> Project Updates </h1>\n",
    "    <hr>\n",
    "</div>\n",
    "\n",
    "<div style=\"line-height: 2em;\">\n",
    "    <p>by: \n",
    "        <strong> Alec Kerrigan</strong>\n",
    "        (<a href=\"https://github.com/ahkerrigan\">@ahkerrigan</a>)\n",
    "     on 2019-10-31</p>\n",
    "</div>"
   ]
  }
 ],
 "metadata": {
  "autobot": {
   "authors": [
    {
     "author": "Alec Kerrigan",
     "github": "ahkerrigan",
     "web": null
    }
   ],
   "categories": [
    "fa19"
   ],
   "date": "2019-10-31",
   "description": "The groups will give the club an update on the progress of their project and other work they have been doing over the semester. We will use this time to catch up on concepts, help each other with issues, and share new ideas.",
   "tags": [
    "machine-learning",
    "data science",
    "finance",
    "statistics"
   ],
   "title": "Project Updates"
  }
 },
 "nbformat": 4,
 "nbformat_minor": 2
}
