{
 "cells": [
  {
   "cell_type": "markdown",
   "metadata": {
    "nb-title": true,
    "title": "Welcome and Group Selection"
   },
   "source": [
    "<img src=\"https://ucfai.org//data-science/fa19/welcome-group/banner.jpg\">\n",
    "\n",
    "<div class=\"col-12\">\n",
    "    <span class=\"btn btn-success btn-block\">\n",
    "        Meeting in-person? Have you signed in?\n",
    "    </span>\n",
    "</div>\n",
    "\n",
    "<div class=\"col-12\">\n",
    "    <h1> Welcome and Group Selection </h1>\n",
    "    <hr>\n",
    "</div>\n",
    "\n",
    "<div style=\"line-height: 2em;\">\n",
    "    <p>by: \n",
    "        <strong> Alec Kerrigan</strong>\n",
    "        (<a href=\"https://github.com/ahkerrigan\">@ahkerrigan</a>)\n",
    "    \n",
    "        <strong> John Muchovej</strong>\n",
    "        (<a href=\"https://github.com/ionlights\">@ionlights</a>)\n",
    "    \n",
    "        <strong> Steve</strong>\n",
    "        (<a href=\"https://github.com/causallycausal\">@causallycausal</a>)\n",
    "    \n",
    "        <strong> Anthony H</strong>\n",
    "        (<a href=\"https://github.com/aehevia\">@aehevia</a>)\n",
    "     on 2019-09-19</p>\n",
    "</div>"
   ]
  }
 ],
 "metadata": {
  "autobot": {
   "authors": [
    {
     "author": "Alec Kerrigan",
     "github": "ahkerrigan",
     "web": null
    },
    {
     "author": "John Muchovej",
     "github": "ionlights",
     "web": null
    },
    {
     "author": "Steve",
     "github": "causallycausal",
     "web": null
    },
    {
     "author": "Anthony H",
     "github": "aehevia",
     "web": null
    }
   ],
   "categories": [
    "fa19"
   ],
   "date": "2019-09-19",
   "description": "Welcome to the data science group! In this meeting, we will dive right in and immediately get all members into a group based on project interests. In addition, group leaders will be assigned,  and coordinators will facilitate narrowing down of projects. Get comfortable, as these will be your teammates as you spend the semester tearing apart dataset after dataset!",
   "tags": [
    "club"
   ],
   "title": "Welcome and Group Selection"
  }
 },
 "nbformat": 4,
 "nbformat_minor": 2
}
