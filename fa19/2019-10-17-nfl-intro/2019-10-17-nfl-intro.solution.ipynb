{
 "cells": [
  {
   "cell_type": "markdown",
   "metadata": {
    "nb-title": true,
    "title": "Introducing the NFL Big Data Bowl"
   },
   "source": [
    "<img src=\"https://ucfai.org/data-science/fa19/nfl-intro/banner.png\">\n",
    "\n",
    "<div class=\"col-12\">\n",
    "    <span class=\"btn btn-success btn-block\">\n",
    "        Meeting in-person? Have you signed in?\n",
    "    </span>\n",
    "</div>\n",
    "\n",
    "<div class=\"col-12\">\n",
    "    <h1> Introducing the NFL Big Data Bowl </h1>\n",
    "    <hr>\n",
    "</div>\n",
    "\n",
    "<div style=\"line-height: 2em;\">\n",
    "    <p>by: \n",
    "        <strong> Alec Kerrigan</strong>\n",
    "        (<a href=\"https://github.com/ahkerrigan\">@ahkerrigan</a>)\n",
    "     on 2019-10-17</p>\n",
    "</div>"
   ]
  }
 ],
 "metadata": {
  "autobot": {
   "authors": [
    {
     "author": "Alec Kerrigan",
     "github": "ahkerrigan",
     "web": null
    }
   ],
   "categories": [
    "fa19"
   ],
   "date": "2019-10-17",
   "description": "AI@UCF has started its first data science competition! The National Football League's  $75,000 competition challenges you with using player stats, position, and time data to predict the future number of yards gained. Come join us as we dive into this competition and learn how to get started.",
   "tags": [
    "machine learning",
    "data science",
    "football",
    "competition"
   ],
   "title": "Introducing the NFL Big Data Bowl"
  }
 },
 "nbformat": 4,
 "nbformat_minor": 2
}
